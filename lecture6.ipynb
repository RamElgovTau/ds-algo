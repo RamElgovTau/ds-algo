{
  "nbformat": 4,
  "nbformat_minor": 0,
  "metadata": {
    "colab": {
      "name": "lecture6.ipynb",
      "provenance": [],
      "authorship_tag": "ABX9TyMdS9h/00HSlDADP30XEEzT",
      "include_colab_link": true
    },
    "kernelspec": {
      "name": "python3",
      "display_name": "Python 3"
    },
    "language_info": {
      "name": "python"
    }
  },
  "cells": [
    {
      "cell_type": "markdown",
      "metadata": {
        "id": "view-in-github",
        "colab_type": "text"
      },
      "source": [
        "<a href=\"https://colab.research.google.com/github/RamElgovTau/ds-algo/blob/main/lecture6.ipynb\" target=\"_parent\"><img src=\"https://colab.research.google.com/assets/colab-badge.svg\" alt=\"Open In Colab\"/></a>"
      ]
    },
    {
      "cell_type": "markdown",
      "source": [
        "#count sort implementation\n",
        "\n",
        "\n"
      ],
      "metadata": {
        "id": "uPN5gVM1iTZ5"
      }
    },
    {
      "cell_type": "code",
      "source": [
        "def count_sort(a,b,n,r):\n",
        "  c = []\n",
        "  b = [0 for i in range(n)]\n",
        "  for i in range(r):\n",
        "    c.append(0)\n",
        "  for j in range(n):\n",
        "    c[a[j]] += 1\n",
        "  for i in range (1,r):\n",
        "    c[i] = c[i] + c[i-1]\n",
        "  for j in range(n-1, -1,-1):\n",
        "    c[a[j]] -= 1\n",
        "    b[c[a[j]]] = a[j]\n",
        "  return b\n"
      ],
      "metadata": {
        "id": "dBln70TsiZ4h"
      },
      "execution_count": 4,
      "outputs": []
    },
    {
      "cell_type": "code",
      "source": [
        "a = [3,1,5,3,6,7,4,3]\n",
        "count_sort(a,[],len(a),8)"
      ],
      "metadata": {
        "colab": {
          "base_uri": "https://localhost:8080/"
        },
        "id": "jfL14HGIl0iV",
        "outputId": "d08fdc72-6ba3-45d2-bfae-798eb09c340b"
      },
      "execution_count": 6,
      "outputs": [
        {
          "output_type": "execute_result",
          "data": {
            "text/plain": [
              "[1, 3, 3, 3, 4, 5, 6, 7]"
            ]
          },
          "metadata": {},
          "execution_count": 6
        }
      ]
    },
    {
      "cell_type": "code",
      "source": [
        ""
      ],
      "metadata": {
        "id": "hNUn0dTqmJCH"
      },
      "execution_count": null,
      "outputs": []
    }
  ]
}